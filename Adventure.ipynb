{
 "cells": [
  {
   "cell_type": "code",
   "execution_count": 2,
   "id": "4e7c0324",
   "metadata": {},
   "outputs": [
    {
     "name": "stdout",
     "output_type": "stream",
     "text": [
      "Welcome Adventurer!\n",
      "As your eyes adjust to the dim light, you see a hooded figure sitting at the foot of your bed.\n",
      "You are unaware of how you got here, or who this man is.\n",
      "The figure looks up at you and says, \"I have been waiting for you to wake up, I was beginning to worry that you wouldnt.\"\n",
      "The figure stands up and walks closer to you as he speaks. \"Do not be alarmed, I am here to help you. You have been chosen for a great quest.\"\n",
      "1. Say nothing, and observe your surroundings.\n",
      "2. Ask who he is.\n",
      "3. Ask how you got here.\n",
      "4. Ask about the quest.\n",
      "He begins to tell you that you were summond here through a powerful ritual, only performed by the most skilled mages. You have been chosen, not by them, but by fate. You are dstined to save the land of Tamriel from the evil sorcerer, Malakar. He has been terrorizing the land for years, and it is up to you to stop him.\n"
     ]
    }
   ],
   "source": [
    "import time\n",
    "\n",
    "print('Welcome Adventurer!')\n",
    "time.sleep(2.25)\n",
    "\n",
    "print('As your eyes adjust to the dim light, you see a hooded figure sitting at the foot of your bed.')\n",
    "time.sleep(5)\n",
    "\n",
    "print('You are unaware of how you got here, or who this man is.')\n",
    "time.sleep(5)\n",
    "\n",
    "print('The figure looks up at you and says, \"I have been waiting for you to wake up, I was beginning to worry that you wouldnt.\"')\n",
    "time.sleep(5)\n",
    "\n",
    "print('The figure stands up and walks closer to you as he speaks. \"Do not be alarmed, I am here to help you. You have been chosen for a great quest.\"')\n",
    "time.sleep(5)  \n",
    "\n",
    "def choice():\n",
    "    \n",
    "    print('1. Say nothing, and observe your surroundings.')\n",
    "    print('2. Ask who he is.')\n",
    "    print('3. Ask how you got here.')\n",
    "    print('4. Ask about the quest.')\n",
    "\n",
    "    while True:\n",
    "        user_input = input('Enter the number of your choice (1-4) or (escape) to exit the adventure: ')\n",
    "        if user_input == '1':\n",
    "            print('You look around the room, it is dark and dusty. You see a small table with a candle on it, and a door to your left.')\n",
    "            break\n",
    "        elif user_input == '2':\n",
    "            print('The figure smiles and says, \"I am your guide, you may call me Torin. I will help you on your quest\"')\n",
    "            break\n",
    "        elif user_input == '3':\n",
    "            print('The figure looks at you with a serious expression. \"You were summoned here through a powerful ritual, You have a destiny to fulfill. You must trust me as we haven\\'t much time\"')\n",
    "            break\n",
    "        elif user_input == '4':\n",
    "            print('He begins to tell you that you were summond here through a powerful ritual, only performed by the most skilled mages. You have been chosen, not by them, but by fate. You are dstined to save the land of Tamriel from the evil sorcerer, Malakar. He has been terrorizing the land for years, and it is up to you to stop him.')\n",
    "            break\n",
    "        elif user_input == 'exit':\n",
    "                print('You have chosen to escape.')\n",
    "                break\n",
    "        else:\n",
    "            print('Invalid choice. Please enter a number between 1 and 4.')\n",
    "choice()\n",
    "        \n",
    "        \n",
    "\n",
    "     \n"
   ]
  }
 ],
 "metadata": {
  "kernelspec": {
   "display_name": "Python 3",
   "language": "python",
   "name": "python3"
  },
  "language_info": {
   "codemirror_mode": {
    "name": "ipython",
    "version": 3
   },
   "file_extension": ".py",
   "mimetype": "text/x-python",
   "name": "python",
   "nbconvert_exporter": "python",
   "pygments_lexer": "ipython3",
   "version": "3.13.3"
  }
 },
 "nbformat": 4,
 "nbformat_minor": 5
}
